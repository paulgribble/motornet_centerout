{
 "cells": [
  {
   "cell_type": "code",
   "execution_count": null,
   "metadata": {},
   "outputs": [],
   "source": [
    "import os\n",
    "import json\n",
    "import numpy as np\n",
    "import torch as th\n",
    "import motornet as mn\n",
    "import pickle\n",
    "import matplotlib.pyplot as plt\n",
    "\n",
    "from my_policy import Policy  # the RNN\n",
    "from my_task import CentreOutFF  # the task\n",
    "from my_loss import cal_loss  # the loss function\n",
    "from my_utils import (\n",
    "    save_model,\n",
    "    print_losses,\n",
    "    plot_stuff,\n",
    "    run_episode,\n",
    "    test,\n",
    "    plot_training_log,\n",
    "    plot_simulations,\n",
    "    plot_activation,\n",
    "    plot_kinematics,\n",
    ")  # utility functions\n",
    "print(\"All packages imported.\")\n",
    "print(\"pytorch version: \" + th.__version__)\n",
    "print(\"numpy version: \" + np.__version__)\n",
    "print(\"motornet version: \" + mn.__version__)"
   ]
  },
  {
   "cell_type": "code",
   "execution_count": null,
   "metadata": {},
   "outputs": [],
   "source": [
    "model_name = \"m0\"\n",
    "data = test(\n",
    "        \"models/\" + model_name + \"/\" + model_name + \"_cfg.json\",\n",
    "        \"models/\" + model_name + \"/\" + model_name + \"_weights\",\n",
    "    )[0]\n",
    "print(data.keys())"
   ]
  },
  {
   "cell_type": "code",
   "execution_count": null,
   "metadata": {},
   "outputs": [],
   "source": [
    "fig, ax = plot_simulations(xy=data[\"xy\"], target_xy=data[\"tg\"], figsize=(8, 6))\n",
    "fig, ax = plot_activation(data[\"all_hidden\"], data[\"all_muscle\"])\n",
    "fig, ax = plot_kinematics(all_xy=data[\"xy\"], all_tg=data[\"tg\"], all_vel=data[\"vel\"], all_obs=data[\"obs\"])"
   ]
  },
  {
   "cell_type": "code",
   "execution_count": null,
   "metadata": {},
   "outputs": [],
   "source": [
    "h = data[\"all_hidden\"][:,:,0].T # [tgt,time,neuron]\n",
    "n_time = np.shape(h)[0]\n",
    "time = np.arange(0,n_time,1)\n",
    "fig = plt.figure()\n",
    "ax = fig.add_subplot()\n",
    "ax.plot(time,h)\n",
    "major_ticks = np.arange(0, 151, 10)\n",
    "minor_ticks = np.arange(0, 151, 5)\n",
    "ax.set_xticks(major_ticks)\n",
    "ax.set_xticks(minor_ticks, minor=True)\n",
    "ax.grid(which='both')\n",
    "ax.grid(which='minor', alpha=0.2)\n",
    "ax.grid(which='major', alpha=0.5)\n",
    "plt.show()"
   ]
  },
  {
   "cell_type": "code",
   "execution_count": null,
   "metadata": {},
   "outputs": [],
   "source": [
    "n_tgt = 24 # 1 timestep before the target shifts\n",
    "n_win = 5\n",
    "h0 = th.mean(h[n_tgt-n_win:n_tgt,:], axis=0) # mean hidden activity over n_win timesteps up to tgt shift\n",
    "hh = h - np.tile(h0,[n_time,1])\n",
    "fig = plt.figure()\n",
    "ax = fig.add_subplot()\n",
    "ax.plot(time[n_tgt-n_win:], hh[n_tgt-n_win:])\n",
    "major_ticks = np.arange(0, 151, 10)\n",
    "minor_ticks = np.arange(0, 151, 5)\n",
    "ax.set_xticks(major_ticks)\n",
    "ax.set_xticks(minor_ticks, minor=True)\n",
    "ax.grid(which='both')\n",
    "ax.grid(which='minor', alpha=0.2)\n",
    "ax.grid(which='major', alpha=0.5)\n",
    "plt.show()"
   ]
  },
  {
   "cell_type": "code",
   "execution_count": null,
   "metadata": {},
   "outputs": [],
   "source": []
  }
 ],
 "metadata": {
  "kernelspec": {
   "display_name": "venv",
   "language": "python",
   "name": "python3"
  },
  "language_info": {
   "codemirror_mode": {
    "name": "ipython",
    "version": 3
   },
   "file_extension": ".py",
   "mimetype": "text/x-python",
   "name": "python",
   "nbconvert_exporter": "python",
   "pygments_lexer": "ipython3",
   "version": "3.12.7"
  }
 },
 "nbformat": 4,
 "nbformat_minor": 2
}
