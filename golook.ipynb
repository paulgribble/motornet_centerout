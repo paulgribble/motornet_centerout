{
 "cells": [
  {
   "cell_type": "code",
   "execution_count": 1,
   "metadata": {},
   "outputs": [
    {
     "name": "stdout",
     "output_type": "stream",
     "text": [
      "All packages imported.\n",
      "pytorch version: 2.8.0\n",
      "numpy version: 2.2.6\n",
      "motornet version: 0.2.0\n"
     ]
    }
   ],
   "source": [
    "# Load in needed libraries and code\n",
    "\n",
    "import os\n",
    "import json\n",
    "import numpy as np\n",
    "import torch as th\n",
    "import motornet as mn\n",
    "import pickle\n",
    "import matplotlib.pyplot as plt\n",
    "\n",
    "from my_policy import Policy  # the RNN\n",
    "from my_task import CentreOutFF  # the task\n",
    "from my_loss import cal_loss  # the loss function\n",
    "from my_utils import (\n",
    "    save_model,\n",
    "    print_losses,\n",
    "    plot_stuff,\n",
    "    run_episode,\n",
    "    test,\n",
    "    plot_training_log,\n",
    "    plot_simulations,\n",
    "    plot_activation,\n",
    "    plot_kinematics,\n",
    ")  # utility functions\n",
    "print(\"All packages imported.\")\n",
    "print(\"pytorch version: \" + th.__version__)\n",
    "print(\"numpy version: \" + np.__version__)\n",
    "print(\"motornet version: \" + mn.__version__)"
   ]
  },
  {
   "cell_type": "code",
   "execution_count": null,
   "metadata": {},
   "outputs": [
    {
     "ename": "TypeError",
     "evalue": "only integer tensors of a single element can be converted to an index",
     "output_type": "error",
     "traceback": [
      "\u001b[31m---------------------------------------------------------------------------\u001b[39m",
      "\u001b[31mTypeError\u001b[39m                                 Traceback (most recent call last)",
      "\u001b[36mCell\u001b[39m\u001b[36m \u001b[39m\u001b[32mIn[3]\u001b[39m\u001b[32m, line 6\u001b[39m\n\u001b[32m      3\u001b[39m loss_weights = [\u001b[32m1e+3\u001b[39m, \u001b[32m2e+2\u001b[39m, \u001b[32m1e+6\u001b[39m, \u001b[32m1e+0\u001b[39m, \u001b[32m0\u001b[39m, \u001b[32m1e-1\u001b[39m, \u001b[32m1e+4\u001b[39m] \u001b[38;5;66;03m# michaels 2025 nature paper\u001b[39;00m\n\u001b[32m      5\u001b[39m model_name = \u001b[33m\"\u001b[39m\u001b[33mm1\u001b[39m\u001b[33m\"\u001b[39m\n\u001b[32m----> \u001b[39m\u001b[32m6\u001b[39m data = \u001b[43mtest\u001b[49m\u001b[43m(\u001b[49m\n\u001b[32m      7\u001b[39m \u001b[43m        \u001b[49m\u001b[33;43m\"\u001b[39;49m\u001b[33;43mmodels/\u001b[39;49m\u001b[33;43m\"\u001b[39;49m\u001b[43m \u001b[49m\u001b[43m+\u001b[49m\u001b[43m \u001b[49m\u001b[43mmodel_name\u001b[49m\u001b[43m \u001b[49m\u001b[43m+\u001b[49m\u001b[43m \u001b[49m\u001b[33;43m\"\u001b[39;49m\u001b[33;43m/\u001b[39;49m\u001b[33;43m\"\u001b[39;49m\u001b[43m \u001b[49m\u001b[43m+\u001b[49m\u001b[43m \u001b[49m\u001b[33;43m\"\u001b[39;49m\u001b[33;43mcfg.json\u001b[39;49m\u001b[33;43m\"\u001b[39;49m\u001b[43m,\u001b[49m\n\u001b[32m      8\u001b[39m \u001b[43m        \u001b[49m\u001b[33;43m\"\u001b[39;49m\u001b[33;43mmodels/\u001b[39;49m\u001b[33;43m\"\u001b[39;49m\u001b[43m \u001b[49m\u001b[43m+\u001b[49m\u001b[43m \u001b[49m\u001b[43mmodel_name\u001b[49m\u001b[43m \u001b[49m\u001b[43m+\u001b[49m\u001b[43m \u001b[49m\u001b[33;43m\"\u001b[39;49m\u001b[33;43m/\u001b[39;49m\u001b[33;43m\"\u001b[39;49m\u001b[43m \u001b[49m\u001b[43m+\u001b[49m\u001b[43m \u001b[49m\u001b[33;43m\"\u001b[39;49m\u001b[33;43mweights\u001b[39;49m\u001b[33;43m\"\u001b[39;49m\u001b[43m,\u001b[49m\n\u001b[32m      9\u001b[39m \u001b[43m        \u001b[49m\u001b[43mloss_weights\u001b[49m\n\u001b[32m     10\u001b[39m \u001b[43m    \u001b[49m\u001b[43m)\u001b[49m[\u001b[32m0\u001b[39m]\n\u001b[32m     11\u001b[39m \u001b[38;5;28mprint\u001b[39m(data.keys())\n",
      "\u001b[36mFile \u001b[39m\u001b[32m~/github/motornet_centerout/my_utils.py:183\u001b[39m, in \u001b[36mtest\u001b[39m\u001b[34m(cfg_file, weight_file, ff_coefficient, loss_weights)\u001b[39m\n\u001b[32m    180\u001b[39m policy.load_state_dict(w)\n\u001b[32m    182\u001b[39m \u001b[38;5;66;03m# Run episode\u001b[39;00m\n\u001b[32m--> \u001b[39m\u001b[32m183\u001b[39m data = \u001b[43mrun_episode\u001b[49m\u001b[43m(\u001b[49m\u001b[43menv\u001b[49m\u001b[43m,\u001b[49m\u001b[43m \u001b[49m\u001b[43mpolicy\u001b[49m\u001b[43m,\u001b[49m\u001b[43m \u001b[49m\u001b[32;43m8\u001b[39;49m\u001b[43m,\u001b[49m\u001b[43m \u001b[49m\u001b[32;43m0\u001b[39;49m\u001b[43m,\u001b[49m\u001b[43m \u001b[49m\u001b[33;43m'\u001b[39;49m\u001b[33;43mtest\u001b[39;49m\u001b[33;43m'\u001b[39;49m\u001b[43m,\u001b[49m\u001b[43m \u001b[49m\u001b[43mff_coefficient\u001b[49m\u001b[43m=\u001b[49m\u001b[43mff_coefficient\u001b[49m\u001b[43m,\u001b[49m\u001b[43m \u001b[49m\u001b[43mdetach\u001b[49m\u001b[43m=\u001b[49m\u001b[38;5;28;43;01mTrue\u001b[39;49;00m\u001b[43m)\u001b[49m\n\u001b[32m    184\u001b[39m overall_loss, losses_weighted = cal_loss(data=data, loss_weights=loss_weights)\n\u001b[32m    186\u001b[39m \u001b[38;5;28;01mreturn\u001b[39;00m data, losses_weighted\n",
      "\u001b[36mFile \u001b[39m\u001b[32m~/github/motornet_centerout/my_utils.py:121\u001b[39m, in \u001b[36mrun_episode\u001b[39m\u001b[34m(env, policy, batch_size, catch_trial_perc, condition, ff_coefficient, detach)\u001b[39m\n\u001b[32m    118\u001b[39m data[\u001b[33m'\u001b[39m\u001b[33mall_muscle\u001b[39m\u001b[33m'\u001b[39m].append(info[\u001b[33m'\u001b[39m\u001b[33mstates\u001b[39m\u001b[33m'\u001b[39m][\u001b[33m'\u001b[39m\u001b[33mmuscle\u001b[39m\u001b[33m'\u001b[39m][:, \u001b[32m0\u001b[39m, \u001b[38;5;28;01mNone\u001b[39;00m, :])\n\u001b[32m    120\u001b[39m action, h = policy(obs, h)\n\u001b[32m--> \u001b[39m\u001b[32m121\u001b[39m obs, _, terminated, _, info = \u001b[43menv\u001b[49m\u001b[43m.\u001b[49m\u001b[43mstep\u001b[49m\u001b[43m(\u001b[49m\u001b[43maction\u001b[49m\u001b[43m=\u001b[49m\u001b[43maction\u001b[49m\u001b[43m)\u001b[49m\n\u001b[32m    123\u001b[39m data[\u001b[33m'\u001b[39m\u001b[33mxy\u001b[39m\u001b[33m'\u001b[39m].append(info[\u001b[33m\"\u001b[39m\u001b[33mstates\u001b[39m\u001b[33m\"\u001b[39m][\u001b[33m\"\u001b[39m\u001b[33mfingertip\u001b[39m\u001b[33m\"\u001b[39m][:, \u001b[38;5;28;01mNone\u001b[39;00m, :])\n\u001b[32m    124\u001b[39m data[\u001b[33m'\u001b[39m\u001b[33mobs\u001b[39m\u001b[33m'\u001b[39m].append(obs[:, \u001b[38;5;28;01mNone\u001b[39;00m, :])\n",
      "\u001b[36mFile \u001b[39m\u001b[32m~/github/motornet_centerout/my_task.py:183\u001b[39m, in \u001b[36mCentreOutFF.step\u001b[39m\u001b[34m(self, action, deterministic, **kwargs)\u001b[39m\n\u001b[32m    181\u001b[39m FF_matvel = th.tensor([[\u001b[32m0\u001b[39m, \u001b[32m1\u001b[39m], [-\u001b[32m1\u001b[39m, \u001b[32m0\u001b[39m]], dtype=th.float32).to(\u001b[33m\"\u001b[39m\u001b[33mcpu\u001b[39m\u001b[33m\"\u001b[39m)\n\u001b[32m    182\u001b[39m \u001b[38;5;66;03m# set endpoint load to zero before go cue\u001b[39;00m\n\u001b[32m--> \u001b[39m\u001b[32m183\u001b[39m \u001b[38;5;28mself\u001b[39m.endpoint_load = \u001b[38;5;28;43mself\u001b[39;49m\u001b[43m.\u001b[49m\u001b[43mff_coefficient\u001b[49m\u001b[43m \u001b[49m\u001b[43m*\u001b[49m\u001b[43m \u001b[49m\u001b[43m(\u001b[49m\u001b[43mvel\u001b[49m\u001b[38;5;129;43m@FF_matvel\u001b[39;49m\u001b[43m.\u001b[49m\u001b[43mT\u001b[49m\u001b[43m)\u001b[49m\n\u001b[32m    185\u001b[39m mask = \u001b[38;5;28mself\u001b[39m.elapsed < \u001b[38;5;28mself\u001b[39m.go_cue_time\n\u001b[32m    186\u001b[39m \u001b[38;5;28mself\u001b[39m.endpoint_load[mask] = \u001b[32m0\u001b[39m\n",
      "\u001b[31mTypeError\u001b[39m: only integer tensors of a single element can be converted to an index"
     ]
    }
   ],
   "source": [
    "# load up one of the trained models\n",
    "\n",
    "loss_weights = [1e+3, 2e+2, 1e+6, 1e+0, 0, 1e-1, 1e+4] # michaels 2025 nature paper\n",
    "\n",
    "model_name = \"m1\"\n",
    "data = test(\n",
    "        \"models/\" + model_name + \"/\" + \"cfg.json\",\n",
    "        \"models/\" + model_name + \"/\" + \"weights\",\n",
    "        ff_coefficient=0,\n",
    "        loss_weights=loss_weights\n",
    "    )[0]\n",
    "print(data.keys())"
   ]
  },
  {
   "cell_type": "code",
   "execution_count": null,
   "metadata": {},
   "outputs": [],
   "source": [
    "# generate some plots of hand paths, muscle activations & network activity, and joint kinematics\n",
    "\n",
    "fig, ax = plot_simulations(xy=data[\"xy\"], target_xy=data[\"tg\"], figsize=(8, 6))\n",
    "fig, ax = plot_activation(data[\"all_hidden\"], data[\"all_muscle\"])\n",
    "fig, ax = plot_kinematics(all_xy=data[\"xy\"], all_tg=data[\"tg\"], all_vel=data[\"vel\"], all_obs=data[\"obs\"])"
   ]
  },
  {
   "cell_type": "code",
   "execution_count": null,
   "metadata": {},
   "outputs": [],
   "source": [
    "# plot hidden unit activity of one unit for the 8 center-out targets\n",
    "\n",
    "h = data[\"all_hidden\"][:,:,1].T # [tgt,time,neuron]\n",
    "n_time = np.shape(h)[0]\n",
    "time = np.arange(0,n_time,1)\n",
    "fig = plt.figure()\n",
    "ax = fig.add_subplot()\n",
    "ax.plot(time,h)\n",
    "major_ticks = np.arange(0, 161, 10)\n",
    "minor_ticks = np.arange(0, 161, 5)\n",
    "ax.set_xticks(major_ticks)\n",
    "ax.set_xticks(minor_ticks, minor=True)\n",
    "ax.grid(which='both')\n",
    "ax.grid(which='minor', alpha=0.2)\n",
    "ax.grid(which='major', alpha=0.5)\n",
    "plt.show()"
   ]
  },
  {
   "cell_type": "code",
   "execution_count": null,
   "metadata": {},
   "outputs": [],
   "source": [
    "# chop off some of the initial drifting activity that starts at time zero\n",
    "\n",
    "n_tgt = 24 # 1 timestep before the target shifts\n",
    "n_win = 5\n",
    "h0 = th.mean(h[n_tgt-n_win:n_tgt,:], axis=0) # mean hidden activity over n_win timesteps up to tgt shift\n",
    "hh = h - np.tile(h0,[n_time,1])\n",
    "fig = plt.figure()\n",
    "ax = fig.add_subplot()\n",
    "ax.plot(time[n_tgt-n_win:], hh[n_tgt-n_win:])\n",
    "major_ticks = np.arange(0, 161, 10)\n",
    "minor_ticks = np.arange(0, 161, 5)\n",
    "ax.set_xticks(major_ticks)\n",
    "ax.set_xticks(minor_ticks, minor=True)\n",
    "ax.grid(which='both')\n",
    "ax.grid(which='minor', alpha=0.2)\n",
    "ax.grid(which='major', alpha=0.5)\n",
    "plt.show()"
   ]
  },
  {
   "cell_type": "code",
   "execution_count": null,
   "metadata": {},
   "outputs": [],
   "source": [
    "# import the dPCA library so we can use it to analyse the population of hidden unit activity\n",
    "\n",
    "from dPCA.dPCA import dPCA"
   ]
  },
  {
   "cell_type": "code",
   "execution_count": null,
   "metadata": {},
   "outputs": [],
   "source": [
    "# organize the data into handpaths, targets, and hidden unit activity\n",
    "\n",
    "xy = data['xy'].detach().numpy()\n",
    "tg = data['tg'].detach().numpy()\n",
    "hid = data['all_hidden'].detach().numpy()\n",
    "\n",
    "n_tgt, n_time, n_neuron = hid.shape\n",
    "print(f\"xy: {np.shape(xy)}\")\n",
    "print(f\"tg: {np.shape(tg)}\")\n",
    "print(f\"hid: {np.shape(hid)}\")\n",
    "print(f\"hidden activity shape: {n_tgt} tgts, {n_time} time points, {n_neuron} neurons\")\n"
   ]
  },
  {
   "cell_type": "code",
   "execution_count": null,
   "metadata": {},
   "outputs": [],
   "source": [
    "# zero hidden activity to just prior to the tgt cue\n",
    "go_cue = 30 # time step of go cue\n",
    "for n in range(n_neuron):\n",
    "    for t in range(n_tgt):\n",
    "        hid[t,:,n] = hid[t,:,n] - hid[t,go_cue-1,n]\n",
    "\n",
    "# chop off activity prior to the tgt cue\n",
    "hid = hid[:, go_cue-25:, :]\n",
    "n_tgt, n_time, n_neuron = hid.shape\n",
    "print(f\"hidden activity shape: {n_tgt} tgts, {n_time} time points, {n_neuron} neurons\")"
   ]
  },
  {
   "cell_type": "code",
   "execution_count": null,
   "metadata": {},
   "outputs": [],
   "source": [
    "# compute the angle of each of the 8 targets from the movement origin (center target)\n",
    "\n",
    "yy = tg[:, -1, 1] - xy[:, 0, 1]\n",
    "xx = tg[:, -1, 0] - xy[:, 0, 0]\n",
    "angles = np.mod(np.arctan2(yy, xx) + 2*np.pi, 2*np.pi)\n",
    "print(f\"tgt angles: {np.round(angles*180/np.pi)} degrees\")"
   ]
  },
  {
   "cell_type": "code",
   "execution_count": null,
   "metadata": {},
   "outputs": [],
   "source": [
    "# perform a dPCA on the hidden unit activity\n",
    "# using time points and target angles as labels\n",
    "\n",
    "n_components = 3 # extract 3 dPCs\n",
    "dpca = dPCA(labels='ta', n_components=n_components)\n",
    "hid2 = hid.transpose(2,1,0)\n",
    "hid_new = dpca.fit_transform(hid2)\n",
    "\n",
    "legend = {k: k for k in hid_new.keys()}\n",
    "legend['t'] = \"time\"\n",
    "legend['a'] = \"target\"\n",
    "legend['ta'] = \"time x target\"\n",
    "dt = 10 # ms\n",
    "tgtcue = 250 # ms\n",
    "gocue  = 550 # ms\n",
    "x = np.arange(0, n_time * dt, step=dt)\n",
    "cm = plt.cm.hsv(np.linspace(0, 1, n_tgt))\n",
    "\n",
    "fig, axs = plt.subplots(len(hid_new), n_components, sharey='row', sharex='col')\n",
    "fig.set_tight_layout(True)\n",
    "fig.set_size_inches((4 * n_components, 3 * len(hid_new)))\n",
    "\n",
    "for i, (k, v) in enumerate(hid_new.items()):\n",
    "  for j in range(n_components):\n",
    "    axs[i, j].set_prop_cycle('color', list(cm))\n",
    "    axs[i, j].plot(x, v[j, :, :], linewidth=2)\n",
    "    axs[i, j].axvline(tgtcue, c='red', linewidth=1, linestyle='--')\n",
    "    axs[i, j].axvline(gocue, c='green', linewidth=1, linestyle='--')\n",
    "\n",
    "    if i == 0:\n",
    "      axs[i, j].set_title(\"dPC\" + str(j+1))\n",
    "    if j == 0:\n",
    "      axs[i, j].set_ylabel(legend[k])\n",
    "    if i == len(legend)-1:\n",
    "      axs[i, j].set_xlabel(\"time (ms)\")\n",
    "\n",
    "plt.show()\n"
   ]
  },
  {
   "cell_type": "code",
   "execution_count": null,
   "metadata": {},
   "outputs": [],
   "source": [
    "for (k,v) in hid_new.items():\n",
    "    print(f\"{k}: {np.shape(v)}\")"
   ]
  },
  {
   "cell_type": "code",
   "execution_count": null,
   "metadata": {},
   "outputs": [],
   "source": [
    "# plot dPC trajectories for each of the 8 targets in 3D\n",
    "# using the time x target interaction effect\n",
    "\n",
    "h = hid_new['ta']\n",
    "ax = plt.figure().add_subplot(projection='3d')\n",
    "for i_tgt in range(n_tgt):\n",
    "    ax.plot(h[0,:,i_tgt].T, h[1,:,i_tgt].T, h[2,:,i_tgt].T, lw=1.0)\n",
    "ax.set_xlabel(\"dPC 1\")\n",
    "ax.set_ylabel(\"dPC 2\")\n",
    "ax.set_zlabel(\"dPC 3\")\n",
    "ax.view_init(elev=90., azim=45, roll=0)\n",
    "ax.axis('equal')\n",
    "ax.set_title(\"TARGET x TIME\")\n",
    "plt.show()"
   ]
  },
  {
   "cell_type": "code",
   "execution_count": null,
   "metadata": {},
   "outputs": [],
   "source": [
    "# make it into a movie\n",
    "\n",
    "from matplotlib.animation import FuncAnimation\n",
    "from mpl_toolkits.mplot3d import Axes3D\n",
    "from IPython.display import HTML\n",
    "\n",
    "# Example data (replace with your actual data)\n",
    "n_tgt = 8\n",
    "n_time = 100\n",
    "h = hid_new['ta']\n",
    "\n",
    "fig = plt.figure()\n",
    "ax = fig.add_subplot(projection='3d')\n",
    "ax.set_xlabel(\"dPC 1\")\n",
    "ax.set_ylabel(\"dPC 2\")\n",
    "ax.set_zlabel(\"dPC 3\")\n",
    "ax.view_init(elev=60., azim=45, roll=0)\n",
    "ax.set_title(\"TARGET x TIME\")\n",
    "ax.set_xlim([-2, 2])\n",
    "ax.set_ylim([-2, 2])\n",
    "ax.set_zlim([-2, 2])\n",
    "\n",
    "# Initialize lines for each target\n",
    "lines = [ax.plot([], [], [])[0] for _ in range(n_tgt)]\n",
    "\n",
    "def init():\n",
    "    for line in lines:\n",
    "        line.set_data([], [])\n",
    "        line.set_3d_properties([])\n",
    "    return lines\n",
    "\n",
    "def update(i):\n",
    "    for i_tgt, line in enumerate(lines):\n",
    "        line.set_data(h[0, :i, i_tgt], h[1, :i, i_tgt])\n",
    "        line.set_3d_properties(h[2, :i, i_tgt])\n",
    "    return lines\n",
    "\n",
    "ani = FuncAnimation(fig, update, frames=n_time, init_func=init, interval=100, blit=True, repeat=False)\n",
    "\n",
    "html_video = ani.to_html5_video()\n",
    "HTML(html_video)\n",
    "\n"
   ]
  },
  {
   "cell_type": "code",
   "execution_count": null,
   "metadata": {},
   "outputs": [],
   "source": []
  }
 ],
 "metadata": {
  "kernelspec": {
   "display_name": ".venv",
   "language": "python",
   "name": "python3"
  },
  "language_info": {
   "codemirror_mode": {
    "name": "ipython",
    "version": 3
   },
   "file_extension": ".py",
   "mimetype": "text/x-python",
   "name": "python",
   "nbconvert_exporter": "python",
   "pygments_lexer": "ipython3",
   "version": "3.12.11"
  }
 },
 "nbformat": 4,
 "nbformat_minor": 2
}
