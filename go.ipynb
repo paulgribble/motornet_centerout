{
 "cells": [
  {
   "cell_type": "code",
   "execution_count": null,
   "metadata": {},
   "outputs": [],
   "source": [
    "import os\n",
    "import time\n",
    "import sys\n",
    "import json\n",
    "import numpy as np\n",
    "import torch as th\n",
    "import matplotlib.pyplot as plt\n",
    "import motornet as mn\n",
    "from tqdm import tqdm\n",
    "import pickle\n",
    "\n",
    "from my_policy import Policy     # the RNN\n",
    "from my_task import CentreOutFF  # the task\n",
    "from my_loss import cal_loss     # the loss function\n",
    "from my_utils import *           # misc utility functions\n",
    "\n",
    "print('All packages imported.')\n",
    "print('pytorch version: ' + th.__version__)\n",
    "print('numpy version: ' + np.__version__)\n",
    "print('motornet version: ' + mn.__version__)"
   ]
  },
  {
   "cell_type": "code",
   "execution_count": null,
   "metadata": {},
   "outputs": [],
   "source": [
    "device = th.device('cpu') # use the cpu not the gpu\n",
    "\n",
    "# define a two-joint planar arm\n",
    "# using a Hill-type muscle model as described in\n",
    "# Kistemaker, Wong & Gribble (2010) J. Neurophysiol. 104(6):2985-94\n",
    "effector = mn.effector.RigidTendonArm26(muscle=mn.muscle.RigidTendonHillMuscle())\n",
    "\n",
    "# define a task with center-out reaching movements\n",
    "# also allows for NF or FF or force-channel probe trials\n",
    "# also includes reaching to random targets in the workspace\n",
    "# by default 50% no-go catch trials (to help it learn to stay put until the go cue)\n",
    "env = CentreOutFF(effector=effector, max_ep_duration=1.5)\n",
    "\n",
    "# define the RNN\n",
    "n_units = 128\n",
    "policy = Policy(env.observation_space.shape[0], n_units, env.n_muscles, device=device)\n",
    "\n",
    "# define the learning rule for updating RNN weights\n",
    "optimizer = th.optim.Adam(policy.parameters(), lr=10**-3)"
   ]
  },
  {
   "cell_type": "code",
   "execution_count": null,
   "metadata": {},
   "outputs": [],
   "source": [
    "# make a directory to store the model info\n",
    "\n",
    "model_name = \"my_model\"\n",
    "\n",
    "if (not os.path.exists(model_name)):\n",
    "    os.mkdir(model_name)"
   ]
  },
  {
   "cell_type": "code",
   "execution_count": null,
   "metadata": {},
   "outputs": [],
   "source": [
    "# train the RNN to reach to random targets\n",
    "\n",
    "n_batch    = 10000  # number of batches to train on \n",
    "batch_size =    32  # number of movements in each batch\n",
    "interval   =  1000  # save progress & plots every so often\n",
    "\n",
    "# a dictionary to store loss values over training\n",
    "losses = {\n",
    "    'overall': [],\n",
    "    'position': [],\n",
    "    'muscle': [],\n",
    "    'muscle_derivative': [],\n",
    "    'hidden': [],\n",
    "    'hidden_derivative': [],\n",
    "    'jerk' : []}\n",
    "\n",
    "# train!\n",
    "for batch in tqdm(range(n_batch),\n",
    "                desc=f\"Training {n_batch} batches of {batch_size}\",\n",
    "                unit=\"batch\"):\n",
    "\n",
    "    # forward pass of all movements in the batch\n",
    "    data = run_episode(env, policy, batch_size, catch_trial_perc=50, condition='train', ff_coefficient=0.0, detach=False)\n",
    "\n",
    "    # compute losses\n",
    "    loss, losses_weighted = cal_loss(data)\n",
    "\n",
    "    # backward pass & update weights\n",
    "    optimizer.zero_grad() \n",
    "    loss.backward()\n",
    "    th.nn.utils.clip_grad_norm_(policy.parameters(), max_norm=1.)  # important!\n",
    "    optimizer.step()\n",
    "\n",
    "    # save weights/config/losses\n",
    "    if (batch % interval == 0) and (batch != 0):\n",
    "        save_model(env, policy, losses, model_name, quiet=True)\n",
    "        with open(model_name + \"/\" + model_name + '_data.pkl', 'wb') as f:\n",
    "            pickle.dump(data, f)\n",
    "        print_losses(losses_weighted=losses_weighted, model_name=model_name, batch=batch)\n",
    "        data, _ = test(model_name + \"/\" + model_name + \"_cfg.json\", model_name + \"/\" + model_name + \"_weights\")\n",
    "        plot_stuff(data, model_name + \"/\" + model_name, batch=batch)\n",
    "\n",
    "    # Update loss values in the dictionary\n",
    "    losses['overall'].append(loss.item())\n",
    "    losses['position'].append(losses_weighted['position'].item())\n",
    "    losses['muscle'].append(losses_weighted['muscle'].item())\n",
    "    losses['muscle_derivative'].append(losses_weighted['muscle_derivative'].item())\n",
    "    losses['hidden'].append(losses_weighted['hidden'].item())\n",
    "    losses['hidden_derivative'].append(losses_weighted['hidden_derivative'].item())\n",
    "    losses['jerk'].append(losses_weighted['jerk_loss'].item())\n",
    "\n",
    "# end of training, save the model and make plots\n",
    "save_model(env, policy, losses, model_name)\n",
    "with open(model_name + \"/\" + model_name + '_data.pkl', 'wb') as f:\n",
    "    pickle.dump(data, f)\n",
    "print_losses(losses_weighted=losses_weighted, model_name=model_name, batch=batch)\n",
    "data, _ = test(model_name + \"/\" + model_name + \"_cfg.json\", model_name + \"/\" + model_name + \"_weights\")\n",
    "plot_stuff(data, model_name + \"/\" + model_name, batch=batch)"
   ]
  },
  {
   "cell_type": "code",
   "execution_count": null,
   "metadata": {},
   "outputs": [],
   "source": [
    "# PLOT LOSS FUNCTION(s)\n",
    "\n",
    "log = json.load(open(model_name + '/' + model_name + \"_log.json\",'r'))\n",
    "print(log[\"losses\"].keys())\n",
    "w=50\n",
    "for loss in [\"overall\",\"position\",\"muscle\",\"hidden\",\"jerk\"]:\n",
    "    fig,ax = plot_training_log(log=log[\"losses\"],loss_type=loss, w=w)\n",
    "    ax.set_title(f\"{loss} (w={w})\")"
   ]
  },
  {
   "cell_type": "code",
   "execution_count": null,
   "metadata": {},
   "outputs": [],
   "source": [
    "# TEST NETWORK ON CENTRE-OUT\n",
    "\n",
    "data = test(model_name + '/' + model_name + \"_cfg.json\", model_name + '/' + model_name + \"_weights\")[0]\n",
    "fig, ax = plot_simulations(xy=data['xy'], target_xy=data['tg'], figsize=(8,6))\n",
    "fig, ax = plot_activation(data['all_hidden'], data['all_muscle'])\n",
    "fig, ax = plot_kinematics(all_xy=data[\"xy\"], all_tg=data[\"tg\"], all_vel=data[\"vel\"])"
   ]
  },
  {
   "cell_type": "code",
   "execution_count": null,
   "metadata": {},
   "outputs": [],
   "source": []
  }
 ],
 "metadata": {
  "kernelspec": {
   "display_name": "motornet",
   "language": "python",
   "name": "python3"
  },
  "language_info": {
   "codemirror_mode": {
    "name": "ipython",
    "version": 3
   },
   "file_extension": ".py",
   "mimetype": "text/x-python",
   "name": "python",
   "nbconvert_exporter": "python",
   "pygments_lexer": "ipython3",
   "version": "3.11.9"
  }
 },
 "nbformat": 4,
 "nbformat_minor": 2
}
